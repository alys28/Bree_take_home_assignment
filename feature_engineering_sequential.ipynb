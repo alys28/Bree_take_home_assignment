{
 "cells": [
  {
   "cell_type": "code",
   "execution_count": 6,
   "metadata": {},
   "outputs": [],
   "source": [
    "import pandas as pd\n",
    "import numpy as np\n",
    "import matplotlib.pyplot as plt\n",
    "import ast"
   ]
  },
  {
   "cell_type": "code",
   "execution_count": 2,
   "metadata": {},
   "outputs": [],
   "source": [
    "# Load the CSV file into a pandas DataFrame\n",
    "df_apps = pd.read_csv('data/apps_sample.csv')\n",
    "df_transactions = pd.read_csv('data/txs_sample.csv')"
   ]
  },
  {
   "cell_type": "code",
   "execution_count": 3,
   "metadata": {},
   "outputs": [],
   "source": [
    "# Convert the date columns to datetime objects + other initial data cleaning\n",
    "df_transactions['date'] = pd.to_datetime(df_transactions['date'], errors='coerce').dt.date\n",
    "df_apps['issuanceDate'] = pd.to_datetime(df_apps['issuanceDate'], errors='coerce').dt.date\n",
    "df_apps['applicationDate'] = pd.to_datetime(df_apps['applicationDate'], errors='coerce').dt.date\n",
    "df_apps['repaidDate'] = pd.to_datetime(df_apps['repaidDate'], errors='coerce').dt.date\n",
    "df_apps['nextPaycheck'] = df_apps['nextPaycheck'].str.replace('T.*', '', regex=True)\n",
    "df_apps['nextPaycheck'] = pd.to_datetime(df_apps['nextPaycheck'], errors='coerce').dt.date\n",
    "def parse_tags(x):\n",
    "    if pd.isna(x):  # Handle NaN\n",
    "        return []\n",
    "    try:\n",
    "        return ast.literal_eval(x)  # Convert string to list\n",
    "    except (ValueError, SyntaxError):  # Handle invalid formats\n",
    "        return []\n",
    "df_transactions['tags'] = df_transactions['tags'].apply(parse_tags)\n",
    "df_transactions['tags'] = df_transactions['tags'].apply(lambda x: x if isinstance(x, list) else [])\n",
    "df_apps[\"paidByUser\"] = df_apps[\"paidByUser\"].astype(bool)"
   ]
  },
  {
   "cell_type": "code",
   "execution_count": 7,
   "metadata": {},
   "outputs": [],
   "source": [
    "def extract_loan_transactions(email: str) -> list:\n",
    "    # Get the user's loan applications\n",
    "    user_apps = df_apps[df_apps['email'] == email].sort_values(by='applicationDate')\n",
    "    # Get the user's transactions\n",
    "    user_txs = df_transactions[df_transactions['email'] == email].sort_values(by='date')\n",
    "    # Get the user's loan transactions\n",
    "    loans = []\n",
    "    for apps_index, apps_row in user_apps.iterrows():\n",
    "        if apps_row['status'] == 'Repaid':\n",
    "            for txs_index, txs_row in user_txs.iterrows():\n",
    "                if txs_row['amount'] == apps_row['paidAmount'] and txs_row['date'] == apps_row['repaidDate']:\n",
    "                    loans.append((apps_row, txs_row))\n",
    "                    break\n",
    "        elif apps_row['status'] == 'AutoRejected':\n",
    "            loans.append((apps_row, []))\n",
    "    return loans"
   ]
  },
  {
   "cell_type": "code",
   "execution_count": 80,
   "metadata": {},
   "outputs": [],
   "source": [
    "# Get all the transactions for a specific email and a in a specific date range\n",
    "def get_transactions_for_dates(email: str, start_date: str, end_date: str) -> pd.DataFrame:\n",
    "    # Get the user's transactions\n",
    "    user_txs = df_transactions[df_transactions['email'] == email]\n",
    "    # Filter the transactions by date\n",
    "    user_txs = user_txs[(user_txs['date'] >= start_date) & (user_txs['date'] <= end_date)]\n",
    "    return user_txs\n",
    "\n",
    "def get_initial_balance(email: str, loan_row) -> float:\n",
    "    # Get the user's transactions\n",
    "    user_txs = df_transactions[df_transactions['email'] == email]\n",
    "    # Filter the transactions by date\n",
    "    user_txs = user_txs[user_txs['date'] <= loan_row['applicationDate']]\n",
    "    return user_txs.iloc[-1]['balance'] if not user_txs.empty else 0"
   ]
  },
  {
   "cell_type": "code",
   "execution_count": 109,
   "metadata": {},
   "outputs": [],
   "source": [
    "def data_for_timestep(email: str, loans: list, currIdx: int):\n",
    "    loan_row, tx_row = loans[currIdx]\n",
    "    if loan_row['status'] == 'AutoRejected':\n",
    "        return None\n",
    "    start_date = loan_row['applicationDate']\n",
    "    end_date = loan_row['repaidDate']\n",
    "    # Get the user's transactions\n",
    "    amount_requested = loan_row['amount']\n",
    "    user_txs = get_transactions_for_dates(email, pd.to_datetime('2024-01-01').date(), start_date)\n",
    "    user_txs_during_loan = get_transactions_for_dates(email, start_date, end_date)\n",
    "    # Get the initial balance\n",
    "    initial_balance = get_initial_balance(email, loan_row)\n",
    "    txs = get_transactions_for_dates(email, pd.to_datetime('2024-01-01').date(), loan_row['issuanceDate'])\n",
    "    recent_txs = txs[txs['date'] >= max(loan_row['issuanceDate'] - pd.Timedelta(days=30), pd.Timestamp('2024-01-01').date())]\n",
    "    avg_amount_spent_last_30_days = np.mean(recent_txs['amount']) if not recent_txs.empty else 0\n",
    "    std_amount_spent_last_30_days = np.std(recent_txs['amount']) if not recent_txs.empty else 0\n",
    "    avg_spending = np.mean(user_txs['amount']) if len(user_txs) > 0 else 0\n",
    "    avg_balance = np.mean(user_txs['balance']) if len(user_txs) > 0 else 0\n",
    "    days_since_last_loan_request = (start_date -loans[currIdx-1][0]['applicationDate']).days if currIdx > 0 else -1\n",
    "    was_last_loan_auto_rejected = loans[currIdx-1][0]['status'] == 'AutoRejected' if currIdx > 0 else False\n",
    "    \n",
    "    avg_num_txs_per_day_during_loan = len(user_txs_during_loan) / ((end_date - start_date).days + 1) if len(user_txs_during_loan) > 0 else 0\n",
    "    avg_daily_balance_during_loan = np.mean(user_txs_during_loan['balance']) if len(user_txs_during_loan) > 0 else 0\n",
    "    std_daily_balance_during_loan = np.std(user_txs_during_loan['balance']) if len(user_txs_during_loan) > 0 else 0\n",
    "    avg_spending_amount_during_loan = np.mean(user_txs_during_loan['amount']) if len(user_txs_during_loan) > 0 else 0\n",
    "    std_spending_amount_during_loan = np.std(user_txs_during_loan['amount']) if len(user_txs_during_loan) > 0 else 0\n",
    "    num_times_balance_below_0 = len(user_txs_during_loan[user_txs_during_loan['balance'] < 0])\n",
    "    balance_after_repayment = tx_row['balance'] if not tx_row.empty else 0\n",
    "    amount_paid = tx_row['amount'] if not tx_row.empty else 0\n",
    "    voluntary_repayment = loan_row['paidByUser'] if not loan_row.empty else False\n",
    "    how_early_repayment = max(abs((loan_row['repaidDate'] - loan_row['nextPaycheck']).days), 0) if not loan_row.empty else 0\n",
    "    return [amount_requested, initial_balance, avg_balance, avg_spending, avg_amount_spent_last_30_days, std_amount_spent_last_30_days, days_since_last_loan_request, was_last_loan_auto_rejected, avg_num_txs_per_day_during_loan, avg_daily_balance_during_loan, std_daily_balance_during_loan, avg_spending_amount_during_loan, std_spending_amount_during_loan, num_times_balance_below_0, balance_after_repayment, amount_paid, voluntary_repayment, how_early_repayment]\n"
   ]
  },
  {
   "cell_type": "code",
   "execution_count": 110,
   "metadata": {},
   "outputs": [],
   "source": [
    "def data_for_input_timestep(email: str, loans: list, currIdx: int):\n",
    "    loan_row, tx_row = loans[currIdx]\n",
    "    if loan_row['status'] == 'AutoRejected':\n",
    "        return None\n",
    "    start_date = loan_row['applicationDate']\n",
    "    # Get the user's transactions\n",
    "    amount_requested = loan_row['amount']\n",
    "    user_txs = get_transactions_for_dates(email, pd.to_datetime('2024-01-01').date(), start_date)\n",
    "    # Get the initial balance\n",
    "    initial_balance = get_initial_balance(email, loan_row)\n",
    "    txs = get_transactions_for_dates(email, pd.to_datetime('2024-01-01').date(), loan_row['issuanceDate'])\n",
    "    recent_txs = txs[txs['date'] >= max(loan_row['issuanceDate'] - pd.Timedelta(days=30), pd.Timestamp('2024-01-01').date())]\n",
    "    avg_amount_spent_last_30_days = np.mean(recent_txs['amount']) if not recent_txs.empty else 0\n",
    "    std_amount_spent_last_30_days = np.std(recent_txs['amount']) if not recent_txs.empty else 0\n",
    "    avg_spending = np.mean(user_txs['amount']) if len(user_txs) > 0 else 0\n",
    "    avg_balance = np.mean(user_txs['balance']) if len(user_txs) > 0 else 0\n",
    "    days_since_last_loan_request = (start_date -loans[currIdx-1][0]['applicationDate']).days if currIdx > 0 else -1\n",
    "    was_last_loan_auto_rejected = loans[currIdx-1][0]['status'] == 'AutoRejected' if currIdx > 0 else False\n",
    "    output = [amount_requested, initial_balance, avg_balance, avg_spending, avg_amount_spent_last_30_days, std_amount_spent_last_30_days, days_since_last_loan_request, was_last_loan_auto_rejected]\n",
    "    output.extend([0]*10)\n",
    "    return output"
   ]
  },
  {
   "cell_type": "code",
   "execution_count": 111,
   "metadata": {},
   "outputs": [],
   "source": [
    "def format_one_data_point(email: str):\n",
    "    loans = extract_loan_transactions(email)\n",
    "    timesteps = []\n",
    "    timesteps_inputs = []\n",
    "    data = []\n",
    "    labels =  []\n",
    "    for i in range(len(loans)):\n",
    "        data_point = data_for_timestep(email, loans, i)\n",
    "        if data_point is not None:\n",
    "            timesteps.append(data_point)\n",
    "        data_point_input = data_for_input_timestep(email, loans, i)\n",
    "        if data_point_input is not None:\n",
    "            timesteps_inputs.append(data_point_input)\n",
    "            labels.append(loans[i][1]['balance'])\n",
    "    for i in range(0, len(timesteps)):\n",
    "        data.append(timesteps[:i] + [timesteps_inputs[i]])\n",
    "    return data, labels"
   ]
  },
  {
   "cell_type": "code",
   "execution_count": 112,
   "metadata": {},
   "outputs": [
    {
     "ename": "TypeError",
     "evalue": "unsupported operand type(s) for +: 'datetime.timedelta' and 'int'",
     "output_type": "error",
     "traceback": [
      "\u001b[0;31m---------------------------------------------------------------------------\u001b[0m",
      "\u001b[0;31mTypeError\u001b[0m                                 Traceback (most recent call last)",
      "Cell \u001b[0;32mIn[112], line 1\u001b[0m\n\u001b[0;32m----> 1\u001b[0m res \u001b[38;5;241m=\u001b[39m \u001b[43mformat_one_data_point\u001b[49m\u001b[43m(\u001b[49m\u001b[38;5;124;43m'\u001b[39;49m\u001b[38;5;124;43m61be9c6909d91d74fe46a2c9f6d830d69f7015e8fa2ac4a4129cbb3edd18ae21\u001b[39;49m\u001b[38;5;124;43m'\u001b[39;49m\u001b[43m)\u001b[49m\n\u001b[1;32m      2\u001b[0m data \u001b[38;5;241m=\u001b[39m res[\u001b[38;5;241m0\u001b[39m]\n\u001b[1;32m      3\u001b[0m labels \u001b[38;5;241m=\u001b[39m res[\u001b[38;5;241m1\u001b[39m]\n",
      "Cell \u001b[0;32mIn[111], line 8\u001b[0m, in \u001b[0;36mformat_one_data_point\u001b[0;34m(email)\u001b[0m\n\u001b[1;32m      6\u001b[0m labels \u001b[38;5;241m=\u001b[39m  []\n\u001b[1;32m      7\u001b[0m \u001b[38;5;28;01mfor\u001b[39;00m i \u001b[38;5;129;01min\u001b[39;00m \u001b[38;5;28mrange\u001b[39m(\u001b[38;5;28mlen\u001b[39m(loans)):\n\u001b[0;32m----> 8\u001b[0m     data_point \u001b[38;5;241m=\u001b[39m \u001b[43mdata_for_timestep\u001b[49m\u001b[43m(\u001b[49m\u001b[43memail\u001b[49m\u001b[43m,\u001b[49m\u001b[43m \u001b[49m\u001b[43mloans\u001b[49m\u001b[43m,\u001b[49m\u001b[43m \u001b[49m\u001b[43mi\u001b[49m\u001b[43m)\u001b[49m\n\u001b[1;32m      9\u001b[0m     \u001b[38;5;28;01mif\u001b[39;00m data_point \u001b[38;5;129;01mis\u001b[39;00m \u001b[38;5;129;01mnot\u001b[39;00m \u001b[38;5;28;01mNone\u001b[39;00m:\n\u001b[1;32m     10\u001b[0m         timesteps\u001b[38;5;241m.\u001b[39mappend(data_point)\n",
      "Cell \u001b[0;32mIn[109], line 22\u001b[0m, in \u001b[0;36mdata_for_timestep\u001b[0;34m(email, loans, currIdx)\u001b[0m\n\u001b[1;32m     19\u001b[0m days_since_last_loan_request \u001b[38;5;241m=\u001b[39m (start_date \u001b[38;5;241m-\u001b[39mloans[currIdx\u001b[38;5;241m-\u001b[39m\u001b[38;5;241m1\u001b[39m][\u001b[38;5;241m0\u001b[39m][\u001b[38;5;124m'\u001b[39m\u001b[38;5;124mapplicationDate\u001b[39m\u001b[38;5;124m'\u001b[39m])\u001b[38;5;241m.\u001b[39mdays \u001b[38;5;28;01mif\u001b[39;00m currIdx \u001b[38;5;241m>\u001b[39m \u001b[38;5;241m0\u001b[39m \u001b[38;5;28;01melse\u001b[39;00m \u001b[38;5;241m-\u001b[39m\u001b[38;5;241m1\u001b[39m\n\u001b[1;32m     20\u001b[0m was_last_loan_auto_rejected \u001b[38;5;241m=\u001b[39m loans[currIdx\u001b[38;5;241m-\u001b[39m\u001b[38;5;241m1\u001b[39m][\u001b[38;5;241m0\u001b[39m][\u001b[38;5;124m'\u001b[39m\u001b[38;5;124mstatus\u001b[39m\u001b[38;5;124m'\u001b[39m] \u001b[38;5;241m==\u001b[39m \u001b[38;5;124m'\u001b[39m\u001b[38;5;124mAutoRejected\u001b[39m\u001b[38;5;124m'\u001b[39m \u001b[38;5;28;01mif\u001b[39;00m currIdx \u001b[38;5;241m>\u001b[39m \u001b[38;5;241m0\u001b[39m \u001b[38;5;28;01melse\u001b[39;00m \u001b[38;5;28;01mFalse\u001b[39;00m\n\u001b[0;32m---> 22\u001b[0m avg_num_txs_per_day_during_loan \u001b[38;5;241m=\u001b[39m \u001b[38;5;28mlen\u001b[39m(user_txs_during_loan) \u001b[38;5;241m/\u001b[39m (\u001b[43mend_date\u001b[49m\u001b[43m \u001b[49m\u001b[38;5;241;43m-\u001b[39;49m\u001b[43m \u001b[49m\u001b[43mstart_date\u001b[49m\u001b[43m \u001b[49m\u001b[38;5;241;43m+\u001b[39;49m\u001b[43m \u001b[49m\u001b[38;5;241;43m1\u001b[39;49m)\u001b[38;5;241m.\u001b[39mdays \u001b[38;5;28;01mif\u001b[39;00m \u001b[38;5;28mlen\u001b[39m(user_txs_during_loan) \u001b[38;5;241m>\u001b[39m \u001b[38;5;241m0\u001b[39m \u001b[38;5;28;01melse\u001b[39;00m \u001b[38;5;241m0\u001b[39m\n\u001b[1;32m     23\u001b[0m avg_daily_balance_during_loan \u001b[38;5;241m=\u001b[39m np\u001b[38;5;241m.\u001b[39mmean(user_txs_during_loan[\u001b[38;5;124m'\u001b[39m\u001b[38;5;124mbalance\u001b[39m\u001b[38;5;124m'\u001b[39m]) \u001b[38;5;28;01mif\u001b[39;00m \u001b[38;5;28mlen\u001b[39m(user_txs_during_loan) \u001b[38;5;241m>\u001b[39m \u001b[38;5;241m0\u001b[39m \u001b[38;5;28;01melse\u001b[39;00m \u001b[38;5;241m0\u001b[39m\n\u001b[1;32m     24\u001b[0m std_daily_balance_during_loan \u001b[38;5;241m=\u001b[39m np\u001b[38;5;241m.\u001b[39mstd(user_txs_during_loan[\u001b[38;5;124m'\u001b[39m\u001b[38;5;124mbalance\u001b[39m\u001b[38;5;124m'\u001b[39m]) \u001b[38;5;28;01mif\u001b[39;00m \u001b[38;5;28mlen\u001b[39m(user_txs_during_loan) \u001b[38;5;241m>\u001b[39m \u001b[38;5;241m0\u001b[39m \u001b[38;5;28;01melse\u001b[39;00m \u001b[38;5;241m0\u001b[39m\n",
      "\u001b[0;31mTypeError\u001b[0m: unsupported operand type(s) for +: 'datetime.timedelta' and 'int'"
     ]
    }
   ],
   "source": [
    "res = format_one_data_point('61be9c6909d91d74fe46a2c9f6d830d69f7015e8fa2ac4a4129cbb3edd18ae21')\n",
    "data = res[0]\n",
    "labels = res[1]"
   ]
  },
  {
   "cell_type": "code",
   "execution_count": 106,
   "metadata": {},
   "outputs": [
    {
     "data": {
      "text/plain": [
       "[[35.0,\n",
       "  np.float64(18.04),\n",
       "  np.float64(121.77144144144147),\n",
       "  np.float64(0.26315315315315435),\n",
       "  np.float64(-0.5305882352941149),\n",
       "  np.float64(159.1083693022052),\n",
       "  -1,\n",
       "  False,\n",
       "  2.388888888888889,\n",
       "  np.float64(100.8618604651163),\n",
       "  np.float64(185.59031902949275),\n",
       "  np.float64(0.24244186046511887),\n",
       "  np.float64(132.216764267394),\n",
       "  3,\n",
       "  541.1,\n",
       "  45.24,\n",
       "  False,\n",
       "  0],\n",
       " [40.0,\n",
       "  np.float64(18.04),\n",
       "  np.float64(111.98025252525252),\n",
       "  np.float64(0.2528282828282853),\n",
       "  np.float64(0.10698412698412928),\n",
       "  np.float64(111.62312304733736),\n",
       "  37,\n",
       "  False,\n",
       "  1.0357142857142858,\n",
       "  np.float64(205.89448275862065),\n",
       "  np.float64(213.72161187711725),\n",
       "  np.float64(-2.620344827586205),\n",
       "  np.float64(172.08903181869226),\n",
       "  2,\n",
       "  367.62,\n",
       "  47.99,\n",
       "  False,\n",
       "  0],\n",
       " [45.0,\n",
       "  np.float64(18.04),\n",
       "  np.float64(125.08288888888889),\n",
       "  np.float64(0.04031111111111285),\n",
       "  np.float64(-0.8658536585365826),\n",
       "  np.float64(196.96329614714847),\n",
       "  28,\n",
       "  False,\n",
       "  0,\n",
       "  0,\n",
       "  0,\n",
       "  0,\n",
       "  0,\n",
       "  0,\n",
       "  0,\n",
       "  0,\n",
       "  0,\n",
       "  0]]"
      ]
     },
     "execution_count": 106,
     "metadata": {},
     "output_type": "execute_result"
    }
   ],
   "source": [
    "data[39]"
   ]
  },
  {
   "cell_type": "code",
   "execution_count": 107,
   "metadata": {},
   "outputs": [],
   "source": [
    "def get_data():\n",
    "    data = []\n",
    "    labels = []\n",
    "    count = 0\n",
    "    unique_emails = df_transactions['email'].unique()\n",
    "    unique_emails_list = unique_emails.tolist()\n",
    "    for email in unique_emails_list:\n",
    "        res = format_one_data_point(email)\n",
    "        data.extend(res[0])\n",
    "        labels.extend(res[1])\n",
    "        count += 1\n",
    "        if count % 10 == 0:\n",
    "            print(count)\n",
    "        if count == 50:\n",
    "            break\n",
    "    return data, labels"
   ]
  },
  {
   "cell_type": "code",
   "execution_count": 108,
   "metadata": {},
   "outputs": [
    {
     "name": "stdout",
     "output_type": "stream",
     "text": [
      "10\n",
      "20\n",
      "30\n",
      "40\n",
      "50\n",
      "60\n",
      "70\n",
      "80\n"
     ]
    },
    {
     "ename": "ZeroDivisionError",
     "evalue": "division by zero",
     "output_type": "error",
     "traceback": [
      "\u001b[0;31m---------------------------------------------------------------------------\u001b[0m",
      "\u001b[0;31mZeroDivisionError\u001b[0m                         Traceback (most recent call last)",
      "Cell \u001b[0;32mIn[108], line 1\u001b[0m\n\u001b[0;32m----> 1\u001b[0m data, labels \u001b[38;5;241m=\u001b[39m \u001b[43mget_data\u001b[49m\u001b[43m(\u001b[49m\u001b[43m)\u001b[49m\n",
      "Cell \u001b[0;32mIn[107], line 8\u001b[0m, in \u001b[0;36mget_data\u001b[0;34m()\u001b[0m\n\u001b[1;32m      6\u001b[0m unique_emails_list \u001b[38;5;241m=\u001b[39m unique_emails\u001b[38;5;241m.\u001b[39mtolist()\n\u001b[1;32m      7\u001b[0m \u001b[38;5;28;01mfor\u001b[39;00m email \u001b[38;5;129;01min\u001b[39;00m unique_emails_list:\n\u001b[0;32m----> 8\u001b[0m     res \u001b[38;5;241m=\u001b[39m \u001b[43mformat_one_data_point\u001b[49m\u001b[43m(\u001b[49m\u001b[43memail\u001b[49m\u001b[43m)\u001b[49m\n\u001b[1;32m      9\u001b[0m     data\u001b[38;5;241m.\u001b[39mextend(res[\u001b[38;5;241m0\u001b[39m])\n\u001b[1;32m     10\u001b[0m     labels\u001b[38;5;241m.\u001b[39mextend(res[\u001b[38;5;241m1\u001b[39m])\n",
      "Cell \u001b[0;32mIn[100], line 8\u001b[0m, in \u001b[0;36mformat_one_data_point\u001b[0;34m(email)\u001b[0m\n\u001b[1;32m      6\u001b[0m labels \u001b[38;5;241m=\u001b[39m  []\n\u001b[1;32m      7\u001b[0m \u001b[38;5;28;01mfor\u001b[39;00m i \u001b[38;5;129;01min\u001b[39;00m \u001b[38;5;28mrange\u001b[39m(\u001b[38;5;28mlen\u001b[39m(loans)):\n\u001b[0;32m----> 8\u001b[0m     data_point \u001b[38;5;241m=\u001b[39m \u001b[43mdata_for_timestep\u001b[49m\u001b[43m(\u001b[49m\u001b[43memail\u001b[49m\u001b[43m,\u001b[49m\u001b[43m \u001b[49m\u001b[43mloans\u001b[49m\u001b[43m,\u001b[49m\u001b[43m \u001b[49m\u001b[43mi\u001b[49m\u001b[43m)\u001b[49m\n\u001b[1;32m      9\u001b[0m     \u001b[38;5;28;01mif\u001b[39;00m data_point \u001b[38;5;129;01mis\u001b[39;00m \u001b[38;5;129;01mnot\u001b[39;00m \u001b[38;5;28;01mNone\u001b[39;00m:\n\u001b[1;32m     10\u001b[0m         timesteps\u001b[38;5;241m.\u001b[39mappend(data_point)\n",
      "Cell \u001b[0;32mIn[81], line 22\u001b[0m, in \u001b[0;36mdata_for_timestep\u001b[0;34m(email, loans, currIdx)\u001b[0m\n\u001b[1;32m     19\u001b[0m days_since_last_loan_request \u001b[38;5;241m=\u001b[39m (start_date \u001b[38;5;241m-\u001b[39mloans[currIdx\u001b[38;5;241m-\u001b[39m\u001b[38;5;241m1\u001b[39m][\u001b[38;5;241m0\u001b[39m][\u001b[38;5;124m'\u001b[39m\u001b[38;5;124mapplicationDate\u001b[39m\u001b[38;5;124m'\u001b[39m])\u001b[38;5;241m.\u001b[39mdays \u001b[38;5;28;01mif\u001b[39;00m currIdx \u001b[38;5;241m>\u001b[39m \u001b[38;5;241m0\u001b[39m \u001b[38;5;28;01melse\u001b[39;00m \u001b[38;5;241m-\u001b[39m\u001b[38;5;241m1\u001b[39m\n\u001b[1;32m     20\u001b[0m was_last_loan_auto_rejected \u001b[38;5;241m=\u001b[39m loans[currIdx\u001b[38;5;241m-\u001b[39m\u001b[38;5;241m1\u001b[39m][\u001b[38;5;241m0\u001b[39m][\u001b[38;5;124m'\u001b[39m\u001b[38;5;124mstatus\u001b[39m\u001b[38;5;124m'\u001b[39m] \u001b[38;5;241m==\u001b[39m \u001b[38;5;124m'\u001b[39m\u001b[38;5;124mAutoRejected\u001b[39m\u001b[38;5;124m'\u001b[39m \u001b[38;5;28;01mif\u001b[39;00m currIdx \u001b[38;5;241m>\u001b[39m \u001b[38;5;241m0\u001b[39m \u001b[38;5;28;01melse\u001b[39;00m \u001b[38;5;28;01mFalse\u001b[39;00m\n\u001b[0;32m---> 22\u001b[0m avg_num_txs_per_day_during_loan \u001b[38;5;241m=\u001b[39m \u001b[38;5;28;43mlen\u001b[39;49m\u001b[43m(\u001b[49m\u001b[43muser_txs_during_loan\u001b[49m\u001b[43m)\u001b[49m\u001b[43m \u001b[49m\u001b[38;5;241;43m/\u001b[39;49m\u001b[43m \u001b[49m\u001b[43m(\u001b[49m\u001b[43mend_date\u001b[49m\u001b[43m \u001b[49m\u001b[38;5;241;43m-\u001b[39;49m\u001b[43m \u001b[49m\u001b[43mstart_date\u001b[49m\u001b[43m)\u001b[49m\u001b[38;5;241;43m.\u001b[39;49m\u001b[43mdays\u001b[49m \u001b[38;5;28;01mif\u001b[39;00m \u001b[38;5;28mlen\u001b[39m(user_txs_during_loan) \u001b[38;5;241m>\u001b[39m \u001b[38;5;241m0\u001b[39m \u001b[38;5;28;01melse\u001b[39;00m \u001b[38;5;241m0\u001b[39m\n\u001b[1;32m     23\u001b[0m avg_daily_balance_during_loan \u001b[38;5;241m=\u001b[39m np\u001b[38;5;241m.\u001b[39mmean(user_txs_during_loan[\u001b[38;5;124m'\u001b[39m\u001b[38;5;124mbalance\u001b[39m\u001b[38;5;124m'\u001b[39m]) \u001b[38;5;28;01mif\u001b[39;00m \u001b[38;5;28mlen\u001b[39m(user_txs_during_loan) \u001b[38;5;241m>\u001b[39m \u001b[38;5;241m0\u001b[39m \u001b[38;5;28;01melse\u001b[39;00m \u001b[38;5;241m0\u001b[39m\n\u001b[1;32m     24\u001b[0m std_daily_balance_during_loan \u001b[38;5;241m=\u001b[39m np\u001b[38;5;241m.\u001b[39mstd(user_txs_during_loan[\u001b[38;5;124m'\u001b[39m\u001b[38;5;124mbalance\u001b[39m\u001b[38;5;124m'\u001b[39m]) \u001b[38;5;28;01mif\u001b[39;00m \u001b[38;5;28mlen\u001b[39m(user_txs_during_loan) \u001b[38;5;241m>\u001b[39m \u001b[38;5;241m0\u001b[39m \u001b[38;5;28;01melse\u001b[39;00m \u001b[38;5;241m0\u001b[39m\n",
      "\u001b[0;31mZeroDivisionError\u001b[0m: division by zero"
     ]
    }
   ],
   "source": [
    "data, labels = get_data()"
   ]
  },
  {
   "cell_type": "code",
   "execution_count": null,
   "metadata": {},
   "outputs": [],
   "source": [
    "data"
   ]
  },
  {
   "cell_type": "code",
   "execution_count": null,
   "metadata": {},
   "outputs": [],
   "source": []
  }
 ],
 "metadata": {
  "kernelspec": {
   "display_name": "env",
   "language": "python",
   "name": "python3"
  },
  "language_info": {
   "codemirror_mode": {
    "name": "ipython",
    "version": 3
   },
   "file_extension": ".py",
   "mimetype": "text/x-python",
   "name": "python",
   "nbconvert_exporter": "python",
   "pygments_lexer": "ipython3",
   "version": "3.9.13"
  }
 },
 "nbformat": 4,
 "nbformat_minor": 2
}
