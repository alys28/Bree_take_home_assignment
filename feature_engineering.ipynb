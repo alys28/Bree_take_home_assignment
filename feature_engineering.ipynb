{
 "cells": [
  {
   "cell_type": "code",
   "execution_count": 7,
   "metadata": {},
   "outputs": [],
   "source": [
    "import pandas as pd\n",
    "import numpy as np\n",
    "import matplotlib.pyplot as plt\n",
    "import ast"
   ]
  },
  {
   "cell_type": "code",
   "execution_count": 2,
   "metadata": {},
   "outputs": [],
   "source": [
    "# Load the CSV file into a pandas DataFrame\n",
    "df_apps = pd.read_csv('data/apps_sample.csv')\n",
    "df_transactions = pd.read_csv('data/txs_sample.csv')"
   ]
  },
  {
   "cell_type": "code",
   "execution_count": 3,
   "metadata": {},
   "outputs": [],
   "source": [
    "# Drop rows that don't have any data in the specified columns\n",
    "columns_to_check = ['balance', 'amount'] \n",
    "df_transactions = df_transactions.dropna(subset=columns_to_check)"
   ]
  },
  {
   "cell_type": "code",
   "execution_count": 10,
   "metadata": {},
   "outputs": [],
   "source": [
    "# Convert the date columns to datetime objects + other initial data cleaning\n",
    "df_transactions['date'] = pd.to_datetime(df_transactions['date'], errors='coerce').dt.date\n",
    "df_apps['issuanceDate'] = pd.to_datetime(df_apps['issuanceDate'], errors='coerce').dt.date\n",
    "df_apps['repaidDate'] = pd.to_datetime(df_apps['repaidDate'], errors='coerce').dt.date\n",
    "df_apps['nextPaycheck'] = pd.to_datetime(df_apps['nextPaycheck'], errors='coerce').dt.date\n",
    "def parse_tags(x):\n",
    "    if pd.isna(x):  # Handle NaN\n",
    "        return []\n",
    "    try:\n",
    "        return ast.literal_eval(x)  # Convert string to list\n",
    "    except (ValueError, SyntaxError):  # Handle invalid formats\n",
    "        return []\n",
    "df_transactions['tags'] = df_transactions['tags'].apply(parse_tags)\n",
    "df_transactions['tags'] = df_transactions['tags'].apply(lambda x: x if isinstance(x, list) else [])\n",
    "df_apps[\"paidByUser\"] = df_apps[\"paidByUser\"].astype(bool)"
   ]
  },
  {
   "cell_type": "code",
   "execution_count": null,
   "metadata": {},
   "outputs": [],
   "source": [
    "# For each email, extract all transactions that are loans, which are indicated by df_apps\n",
    "def extract_loan_transactions(email: str) -> list:\n",
    "    # Get the user's loan applications\n",
    "    user_apps = df_apps[df_apps['email'] == email].sort_values(by='applicationDate')\n",
    "    # Get the user's transactions\n",
    "    user_txs = df_transactions[df_transactions['email'] == email].sort_values(by='date')\n",
    "    # Get the user's loan transactions\n",
    "    loans = []\n",
    "    for apps_index, apps_row in user_apps.iterrows():\n",
    "        if apps_row['status'] == 'Repaid':\n",
    "            for txs_index, txs_row in user_txs.iterrows():\n",
    "                if txs_row['amount'] == apps_row['paidAmount'] and txs_row['date'] == apps_row['repaidDate']:\n",
    "                    loans.append((apps_row, txs_row))\n",
    "                    break\n",
    "    return loans"
   ]
  },
  {
   "cell_type": "code",
   "execution_count": null,
   "metadata": {},
   "outputs": [],
   "source": [
    "# Get all the transactions for a specific email and a in a specific date range\n",
    "def get_transactions_for_dates(email: str, start_date: str, end_date: str) -> pd.DataFrame:\n",
    "    # Get the user's transactions\n",
    "    user_txs = df_transactions[df_transactions['email'] == email]\n",
    "    # Filter the transactions by date\n",
    "    user_txs = user_txs[(user_txs['date'] >= start_date) & (user_txs['date'] <= end_date)]\n",
    "    return user_txs\n",
    "\n",
    "def get_initial_balance(email: str, loan_row) -> float:\n",
    "    # Get the user's transactions\n",
    "    user_txs = df_transactions[df_transactions['email'] == email]\n",
    "    # Filter the transactions by date\n",
    "    user_txs = user_txs[user_txs['date'] < loan_row['date']]\n",
    "    return user_txs['balance'].iloc[-1] # since the transactions are sorted by date, the last balance is the initial balance, which is the balance before the loan was taken (safe assumption)"
   ]
  },
  {
   "cell_type": "code",
   "execution_count": null,
   "metadata": {},
   "outputs": [],
   "source": [
    "def get_loans_history(loans: list, currIdx: int) -> list:\n",
    "    loan = loans[currIdx]\n",
    "    avg_amount_requested = np.mean([loan[0]['amount'] for loan in loans[:currIdx]])\n",
    "    avg_amount_repaid = np.mean([loan[0]['amount'] for loan in loans[:currIdx]])\n",
    "    avg_payback_time = np.mean([(loan[0]['repaidDate'] - loan[0]['issuanceDate']).days for loan in loans[:currIdx]])\n",
    "    num_of_paidByUser = len([loan for loan in loans[:currIdx] if loan[0]['paidByUser']])\n",
    "    num_of_not_paidByUser = len([loan for loan in loans[:currIdx] if not loan[0]['paidByUser']])\n",
    "    ratio_paidByUser = num_of_paidByUser / (num_of_paidByUser + num_of_not_paidByUser)\n",
    "    ratio_loans_approved = (currIdx + 1) / df_apps[(df_apps['email'] == loan[0]['email']) & (df_apps['applicationDate'] < loan[0]['applicationDate'])].shape[0]\n",
    "    num_days_since_last_loan = (loan[0]['applicationDate'] - loans[currIdx - 1][0]['applicationDate']).days if currIdx > 0 else -1\n",
    "    num_days_loan_was_paid_late = sum(max((loan[0]['repaidDate'] - loan[0]['nextPaycheck']).days, 0) for loan in loans[:currIdx])\n",
    "    ratio_loans_were_paid_on_time = len([loan for loan in loans[:currIdx] if loan[0]['repaidDate'] <= loan[0]['nextPaycheck']]) / (currIdx + 1)\n",
    "    return [avg_amount_requested, avg_amount_repaid, avg_payback_time, num_of_paidByUser, num_of_not_paidByUser, ratio_paidByUser, ratio_loans_approved, num_days_since_last_loan, num_days_loan_was_paid_late, ratio_loans_were_paid_on_time]\n",
    "\n",
    "def get_transactions_history(email: str, loans: list, currIdx: int) -> list:\n",
    "    loan = loans[currIdx]\n",
    "    txs = get_transactions_for_dates(email, \"January 1st 2024\", loan[0]['issuanceDate'])\n",
    "    avg_amount_spent = np.mean(txs['amount'])\n",
    "    avg_balance = np.mean(txs['balance'])\n",
    "    return [avg_amount_spent, avg_balance]\n"
   ]
  }
 ],
 "metadata": {
  "kernelspec": {
   "display_name": "env",
   "language": "python",
   "name": "python3"
  },
  "language_info": {
   "codemirror_mode": {
    "name": "ipython",
    "version": 3
   },
   "file_extension": ".py",
   "mimetype": "text/x-python",
   "name": "python",
   "nbconvert_exporter": "python",
   "pygments_lexer": "ipython3",
   "version": "3.9.13"
  }
 },
 "nbformat": 4,
 "nbformat_minor": 2
}
