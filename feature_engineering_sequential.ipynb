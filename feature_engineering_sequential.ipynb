{
 "cells": [
  {
   "cell_type": "code",
   "execution_count": 6,
   "metadata": {},
   "outputs": [],
   "source": [
    "import pandas as pd\n",
    "import numpy as np\n",
    "import matplotlib.pyplot as plt\n",
    "import ast"
   ]
  },
  {
   "cell_type": "code",
   "execution_count": 2,
   "metadata": {},
   "outputs": [],
   "source": [
    "# Load the CSV file into a pandas DataFrame\n",
    "df_apps = pd.read_csv('data/apps_sample.csv')\n",
    "df_transactions = pd.read_csv('data/txs_sample.csv')"
   ]
  },
  {
   "cell_type": "code",
   "execution_count": 3,
   "metadata": {},
   "outputs": [],
   "source": [
    "# Convert the date columns to datetime objects + other initial data cleaning\n",
    "df_transactions['date'] = pd.to_datetime(df_transactions['date'], errors='coerce').dt.date\n",
    "df_apps['issuanceDate'] = pd.to_datetime(df_apps['issuanceDate'], errors='coerce').dt.date\n",
    "df_apps['applicationDate'] = pd.to_datetime(df_apps['applicationDate'], errors='coerce').dt.date\n",
    "df_apps['repaidDate'] = pd.to_datetime(df_apps['repaidDate'], errors='coerce').dt.date\n",
    "df_apps['nextPaycheck'] = df_apps['nextPaycheck'].str.replace('T.*', '', regex=True)\n",
    "df_apps['nextPaycheck'] = pd.to_datetime(df_apps['nextPaycheck'], errors='coerce').dt.date\n",
    "def parse_tags(x):\n",
    "    if pd.isna(x):  # Handle NaN\n",
    "        return []\n",
    "    try:\n",
    "        return ast.literal_eval(x)  # Convert string to list\n",
    "    except (ValueError, SyntaxError):  # Handle invalid formats\n",
    "        return []\n",
    "df_transactions['tags'] = df_transactions['tags'].apply(parse_tags)\n",
    "df_transactions['tags'] = df_transactions['tags'].apply(lambda x: x if isinstance(x, list) else [])\n",
    "df_apps[\"paidByUser\"] = df_apps[\"paidByUser\"].astype(bool)"
   ]
  },
  {
   "cell_type": "code",
   "execution_count": 7,
   "metadata": {},
   "outputs": [],
   "source": [
    "def extract_loan_transactions(email: str) -> list:\n",
    "    # Get the user's loan applications\n",
    "    user_apps = df_apps[df_apps['email'] == email].sort_values(by='applicationDate')\n",
    "    # Get the user's transactions\n",
    "    user_txs = df_transactions[df_transactions['email'] == email].sort_values(by='date')\n",
    "    # Get the user's loan transactions\n",
    "    loans = []\n",
    "    for apps_index, apps_row in user_apps.iterrows():\n",
    "        if apps_row['status'] == 'Repaid':\n",
    "            for txs_index, txs_row in user_txs.iterrows():\n",
    "                if txs_row['amount'] == apps_row['paidAmount'] and txs_row['date'] == apps_row['repaidDate']:\n",
    "                    loans.append((apps_row, txs_row))\n",
    "                    break\n",
    "        elif apps_row['status'] == 'AutoRejected':\n",
    "            loans.append((apps_row, []))\n",
    "    return loans"
   ]
  },
  {
   "cell_type": "code",
   "execution_count": 80,
   "metadata": {},
   "outputs": [],
   "source": [
    "# Get all the transactions for a specific email and a in a specific date range\n",
    "def get_transactions_for_dates(email: str, start_date: str, end_date: str) -> pd.DataFrame:\n",
    "    # Get the user's transactions\n",
    "    user_txs = df_transactions[df_transactions['email'] == email]\n",
    "    # Filter the transactions by date\n",
    "    user_txs = user_txs[(user_txs['date'] >= start_date) & (user_txs['date'] <= end_date)]\n",
    "    return user_txs\n",
    "\n",
    "def get_initial_balance(email: str, loan_row) -> float:\n",
    "    # Get the user's transactions\n",
    "    user_txs = df_transactions[df_transactions['email'] == email]\n",
    "    # Filter the transactions by date\n",
    "    user_txs = user_txs[user_txs['date'] <= loan_row['applicationDate']]\n",
    "    return user_txs.iloc[-1]['balance'] if not user_txs.empty else 0"
   ]
  },
  {
   "cell_type": "code",
   "execution_count": 81,
   "metadata": {},
   "outputs": [],
   "source": [
    "def data_for_timestep(email: str, loans: list, currIdx: int):\n",
    "    loan_row, tx_row = loans[currIdx]\n",
    "    if loan_row['status'] == 'AutoRejected':\n",
    "        return None\n",
    "    start_date = loan_row['applicationDate']\n",
    "    end_date = loan_row['repaidDate']\n",
    "    # Get the user's transactions\n",
    "    amount_requested = loan_row['amount']\n",
    "    user_txs = get_transactions_for_dates(email, pd.to_datetime('2024-01-01').date(), start_date)\n",
    "    user_txs_during_loan = get_transactions_for_dates(email, start_date, end_date)\n",
    "    # Get the initial balance\n",
    "    initial_balance = get_initial_balance(email, loan_row)\n",
    "    txs = get_transactions_for_dates(email, pd.to_datetime('2024-01-01').date(), loan_row['issuanceDate'])\n",
    "    recent_txs = txs[txs['date'] >= max(loan_row['issuanceDate'] - pd.Timedelta(days=30), pd.Timestamp('2024-01-01').date())]\n",
    "    avg_amount_spent_last_30_days = np.mean(recent_txs['amount']) if not recent_txs.empty else 0\n",
    "    std_amount_spent_last_30_days = np.std(recent_txs['amount']) if not recent_txs.empty else 0\n",
    "    avg_spending = np.mean(user_txs['amount']) if len(user_txs) > 0 else 0\n",
    "    avg_balance = np.mean(user_txs['balance']) if len(user_txs) > 0 else 0\n",
    "    days_since_last_loan_request = (start_date -loans[currIdx-1][0]['applicationDate']).days if currIdx > 0 else -1\n",
    "    was_last_loan_auto_rejected = loans[currIdx-1][0]['status'] == 'AutoRejected' if currIdx > 0 else False\n",
    "    \n",
    "    avg_num_txs_per_day_during_loan = len(user_txs_during_loan) / (end_date - start_date).days if len(user_txs_during_loan) > 0 else 0\n",
    "    avg_daily_balance_during_loan = np.mean(user_txs_during_loan['balance']) if len(user_txs_during_loan) > 0 else 0\n",
    "    std_daily_balance_during_loan = np.std(user_txs_during_loan['balance']) if len(user_txs_during_loan) > 0 else 0\n",
    "    avg_spending_amount_during_loan = np.mean(user_txs_during_loan['amount']) if len(user_txs_during_loan) > 0 else 0\n",
    "    std_spending_amount_during_loan = np.std(user_txs_during_loan['amount']) if len(user_txs_during_loan) > 0 else 0\n",
    "    num_times_balance_below_0 = len(user_txs_during_loan[user_txs_during_loan['balance'] < 0])\n",
    "    balance_after_repayment = tx_row['balance'] if not tx_row.empty else 0\n",
    "    amount_paid = tx_row['amount'] if not tx_row.empty else 0\n",
    "    voluntary_repayment = loan_row['paidByUser'] if not loan_row.empty else False\n",
    "    how_early_repayment = max(abs((loan_row['repaidDate'] - loan_row['nextPaycheck']).days), 0) if not loan_row.empty else 0\n",
    "    return [amount_requested, initial_balance, avg_balance, avg_spending, avg_amount_spent_last_30_days, std_amount_spent_last_30_days, days_since_last_loan_request, was_last_loan_auto_rejected, avg_num_txs_per_day_during_loan, avg_daily_balance_during_loan, std_daily_balance_during_loan, avg_spending_amount_during_loan, std_spending_amount_during_loan, num_times_balance_below_0, balance_after_repayment, amount_paid, voluntary_repayment, how_early_repayment]\n"
   ]
  },
  {
   "cell_type": "code",
   "execution_count": 82,
   "metadata": {},
   "outputs": [],
   "source": [
    "def data_for_input_timestep(email: str, loans: list, currIdx: int):\n",
    "    loan_row, tx_row = loans[currIdx]\n",
    "    if loan_row['status'] == 'AutoRejected':\n",
    "        return None\n",
    "    start_date = loan_row['applicationDate']\n",
    "    # Get the user's transactions\n",
    "    amount_requested = loan_row['amount']\n",
    "    user_txs = get_transactions_for_dates(email, pd.to_datetime('2024-01-01').date(), start_date)\n",
    "    # Get the initial balance\n",
    "    initial_balance = get_initial_balance(email, loan_row)\n",
    "    txs = get_transactions_for_dates(email, pd.to_datetime('2024-01-01').date(), loan_row['issuanceDate'])\n",
    "    recent_txs = txs[txs['date'] >= max(loan_row['issuanceDate'] - pd.Timedelta(days=30), pd.Timestamp('2024-01-01').date())]\n",
    "    avg_amount_spent_last_30_days = np.mean(recent_txs['amount']) if not recent_txs.empty else 0\n",
    "    std_amount_spent_last_30_days = np.std(recent_txs['amount']) if not recent_txs.empty else 0\n",
    "    avg_spending = np.mean(user_txs['amount']) if len(user_txs) > 0 else 0\n",
    "    avg_balance = np.mean(user_txs['balance']) if len(user_txs) > 0 else 0\n",
    "    days_since_last_loan_request = (start_date -loans[currIdx-1][0]['applicationDate']).days if currIdx > 0 else -1\n",
    "    was_last_loan_auto_rejected = loans[currIdx-1][0]['status'] == 'AutoRejected' if currIdx > 0 else False\n",
    "    output = [amount_requested, initial_balance, avg_balance, avg_spending, avg_amount_spent_last_30_days, std_amount_spent_last_30_days, days_since_last_loan_request, was_last_loan_auto_rejected]\n",
    "    output.extend([0]*10)\n",
    "    return output"
   ]
  },
  {
   "cell_type": "code",
   "execution_count": 95,
   "metadata": {},
   "outputs": [],
   "source": [
    "def format_one_data_point(email: str):\n",
    "    loans = extract_loan_transactions(email)\n",
    "    repaid_loans = [loan for loan in loans if loan[0]['status'] == 'Repaid']\n",
    "    timesteps = []\n",
    "    timesteps_inputs = []\n",
    "    data = []\n",
    "    labels =  []\n",
    "    for i in range(len(loans)):\n",
    "        data_point = data_for_timestep(email, loans, i)\n",
    "        if data_point is not None:\n",
    "            timesteps.append(data_point)\n",
    "        data_point_input = data_for_input_timestep(email, loans, i)\n",
    "        if data_point_input is not None:\n",
    "            timesteps_inputs.append(data_point_input)\n",
    "            labels.append(loans[i][1]['balance'])\n",
    "    for i in range(0, len(timesteps)):\n",
    "        data.append(timesteps[:i] + [timesteps_inputs[i]])\n",
    "    return data, labels"
   ]
  },
  {
   "cell_type": "code",
   "execution_count": 96,
   "metadata": {},
   "outputs": [],
   "source": [
    "res = format_one_data_point('61be9c6909d91d74fe46a2c9f6d830d69f7015e8fa2ac4a4129cbb3edd18ae21')\n",
    "data = res[0]\n",
    "labels = res[1]"
   ]
  },
  {
   "cell_type": "code",
   "execution_count": 99,
   "metadata": {},
   "outputs": [
    {
     "data": {
      "text/plain": [
       "[[50.0,\n",
       "  np.float64(-9936.53),\n",
       "  np.float64(-284.8435800344234),\n",
       "  np.float64(1.3413253012048196),\n",
       "  np.float64(4.350000000000001),\n",
       "  np.float64(251.6131762178076),\n",
       "  -1,\n",
       "  False,\n",
       "  4.583333333333333,\n",
       "  np.float64(-56.22218181818184),\n",
       "  np.float64(1386.4070109783004),\n",
       "  np.float64(-7.3585454545454505),\n",
       "  np.float64(214.22088077851015),\n",
       "  13,\n",
       "  208.8,\n",
       "  50.0,\n",
       "  True,\n",
       "  0],\n",
       " [70.0,\n",
       "  np.float64(-9936.53),\n",
       "  np.float64(-265.07286163522014),\n",
       "  np.float64(0.5889779874213846),\n",
       "  np.float64(-1.1612831858407084),\n",
       "  np.float64(277.58102034439077),\n",
       "  12,\n",
       "  False,\n",
       "  0,\n",
       "  0,\n",
       "  0,\n",
       "  0,\n",
       "  0,\n",
       "  0,\n",
       "  0,\n",
       "  0,\n",
       "  0,\n",
       "  0]]"
      ]
     },
     "execution_count": 99,
     "metadata": {},
     "output_type": "execute_result"
    }
   ],
   "source": [
    "data[1]"
   ]
  },
  {
   "cell_type": "code",
   "execution_count": null,
   "metadata": {},
   "outputs": [],
   "source": []
  }
 ],
 "metadata": {
  "kernelspec": {
   "display_name": "env",
   "language": "python",
   "name": "python3"
  },
  "language_info": {
   "codemirror_mode": {
    "name": "ipython",
    "version": 3
   },
   "file_extension": ".py",
   "mimetype": "text/x-python",
   "name": "python",
   "nbconvert_exporter": "python",
   "pygments_lexer": "ipython3",
   "version": "3.9.13"
  }
 },
 "nbformat": 4,
 "nbformat_minor": 2
}
