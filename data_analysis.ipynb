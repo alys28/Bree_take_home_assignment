{
 "cells": [
  {
   "cell_type": "code",
   "execution_count": null,
   "metadata": {},
   "outputs": [
    {
     "name": "stdout",
     "output_type": "stream",
     "text": [
      "The number of unique entries in the column 'email' (txs_sample.csv): 2927\n",
      "The number of unique entries in the column 'email' (apps_sample.csv): 3000\n"
     ]
    }
   ],
   "source": [
    "import pandas as pd\n",
    "\n",
    "# Load the CSV file into a pandas DataFrame\n",
    "df_apps = pd.read_csv('data/apps_sample.csv')\n",
    "df_transactions = pd.read_csv('data/txs_sample.csv')\n",
    "# Specify the column name you want to analyze\n",
    "\n",
    "# Get the number of unique entries for the specified column\n",
    "unique_count_transactions = df_transactions['email'].nunique()\n",
    "unique_count_apps = df_apps['email'].nunique()\n",
    "print(f\"The number of unique entries in the column '{'email'}' (txs_sample.csv): {unique_count_transactions}\")\n",
    "print(f\"The number of unique entries in the column '{'email'}' (apps_sample.csv): {unique_count_apps}\")\n"
   ]
  },
  {
   "cell_type": "code",
   "execution_count": 25,
   "metadata": {},
   "outputs": [
    {
     "name": "stdout",
     "output_type": "stream",
     "text": [
      "Counts of each entry in the column 'status':\n",
      "status\n",
      "Repaid          12322\n",
      "AutoRejected     3021\n",
      "Outstanding      1242\n",
      "Expired           481\n",
      "Cancelled         202\n",
      "Open               14\n",
      "Name: count, dtype: int64\n"
     ]
    }
   ],
   "source": [
    "\n",
    "# Get the count of each unique entry in the specified column\n",
    "status_counts = df_apps['status'].value_counts()\n",
    "\n",
    "print(f\"Counts of each entry in the column '{'status'}':\")\n",
    "print(status_counts)"
   ]
  },
  {
   "cell_type": "code",
   "execution_count": 28,
   "metadata": {},
   "outputs": [
    {
     "name": "stdout",
     "output_type": "stream",
     "text": [
      "All transactions for the customer with email '0521dc2fb6f29f79f126409112e21a975e6ed9a5bcc881fbd434045aa5d4a759':\n",
      "         amount  balance                       category  \\\n",
      "2262593   12.03   615.61            ['Food and Dining']   \n",
      "2262594   38.77   695.11              ['Uncategorized']   \n",
      "2262595   13.18   602.43  ['Travel and Transportation']   \n",
      "2262596   50.11   642.85            ['Food and Dining']   \n",
      "2262597   17.96   733.88  ['Travel and Transportation']   \n",
      "...         ...      ...                            ...   \n",
      "2263495    1.92   134.16            ['Food and Dining']   \n",
      "2263496    4.61   136.08            ['Food and Dining']   \n",
      "2263497   20.00   140.69     ['Miscellaneous Expenses']   \n",
      "2263498    7.44   160.69            ['Food and Dining']   \n",
      "2263499   23.55   168.13            ['Food and Dining']   \n",
      "\n",
      "                       subcategory        date  \n",
      "2262593           ['Coffee Shops']  2024/08/30  \n",
      "2262594          ['Uncategorized']  2024/08/30  \n",
      "2262595  ['Ground Transportation']  2024/08/30  \n",
      "2262596            ['Restaurants']  2024/08/30  \n",
      "2262597  ['Ground Transportation']  2024/08/30  \n",
      "...                            ...         ...  \n",
      "2263495           ['Coffee Shops']  2024/10/02  \n",
      "2263496           ['Coffee Shops']  2024/10/02  \n",
      "2263497        ['Cash Withdrawal']  2024/10/02  \n",
      "2263498           ['Coffee Shops']  2024/10/02  \n",
      "2263499            ['Restaurants']  2024/10/02  \n",
      "\n",
      "[907 rows x 5 columns]\n"
     ]
    }
   ],
   "source": [
    "# Extract all transactions for a given customer\n",
    "customer_email = '0521dc2fb6f29f79f126409112e21a975e6ed9a5bcc881fbd434045aa5d4a759'\n",
    "customer_txs = df_transactions[df_transactions['email'] == customer_email]\n",
    "print(f\"All transactions for the customer with email '{customer_email}':\")\n",
    "# Only print amount, balance, category, subcategory, and date columns\n",
    "print(customer_txs[['amount', 'balance', 'category', 'subcategory', 'date']])"
   ]
  },
  {
   "cell_type": "code",
   "execution_count": null,
   "metadata": {},
   "outputs": [],
   "source": []
  }
 ],
 "metadata": {
  "kernelspec": {
   "display_name": "env",
   "language": "python",
   "name": "python3"
  },
  "language_info": {
   "codemirror_mode": {
    "name": "ipython",
    "version": 3
   },
   "file_extension": ".py",
   "mimetype": "text/x-python",
   "name": "python",
   "nbconvert_exporter": "python",
   "pygments_lexer": "ipython3",
   "version": "3.9.13"
  }
 },
 "nbformat": 4,
 "nbformat_minor": 2
}
