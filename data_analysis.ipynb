{
 "cells": [
  {
   "cell_type": "code",
   "execution_count": null,
   "metadata": {},
   "outputs": [
    {
     "name": "stdout",
     "output_type": "stream",
     "text": [
      "The number of unique entries in the column 'email' (txs_sample.csv): 2927\n",
      "The number of unique entries in the column 'email' (apps_sample.csv): 3000\n"
     ]
    }
   ],
   "source": [
    "import pandas as pd\n",
    "\n",
    "# Load the CSV file into a pandas DataFrame\n",
    "df_apps = pd.read_csv('data/apps_sample.csv')\n",
    "df_transactions = pd.read_csv('data/txs_sample.csv')\n",
    "# Specify the column name you want to analyze\n",
    "\n",
    "# Get the number of unique entries for the specified column\n",
    "unique_count_transactions = df_transactions['email'].nunique()\n",
    "unique_count_apps = df_apps['email'].nunique()\n",
    "print(f\"The number of unique entries in the column '{'email'}' (txs_sample.csv): {unique_count_transactions}\")\n",
    "print(f\"The number of unique entries in the column '{'email'}' (apps_sample.csv): {unique_count_apps}\")\n"
   ]
  },
  {
   "cell_type": "markdown",
   "metadata": {},
   "source": [
    "We can only use data that has 'Repaid' status, since it has the target that we need (balance after repayment)."
   ]
  },
  {
   "cell_type": "code",
   "execution_count": 25,
   "metadata": {},
   "outputs": [
    {
     "name": "stdout",
     "output_type": "stream",
     "text": [
      "Counts of each entry in the column 'status':\n",
      "status\n",
      "Repaid          12322\n",
      "AutoRejected     3021\n",
      "Outstanding      1242\n",
      "Expired           481\n",
      "Cancelled         202\n",
      "Open               14\n",
      "Name: count, dtype: int64\n"
     ]
    }
   ],
   "source": [
    "\n",
    "# Get the count of each unique entry in the specified column\n",
    "status_counts = df_apps['status'].value_counts()\n",
    "\n",
    "print(f\"Counts of each entry in the column '{'status'}':\")\n",
    "print(status_counts)"
   ]
  },
  {
   "cell_type": "code",
   "execution_count": 32,
   "metadata": {},
   "outputs": [
    {
     "name": "stdout",
     "output_type": "stream",
     "text": [
      "Applications for the customer with email '0521dc2fb6f29f79f126409112e21a975e6ed9a5bcc881fbd434045aa5d4a759':\n",
      "                applicationDate  amount              issuanceDate  \\\n",
      "13700  2024-11-11T04:28:04.411Z    35.0  2024-11-11T04:28:12.481Z   \n",
      "14965  2024-11-29T12:31:53.133Z    15.0  2024-11-29T12:31:59.816Z   \n",
      "17256  2024-12-31T14:51:02.540Z    20.0                       NaN   \n",
      "\n",
      "             status  paidAmount                repaidDate nextPaycheck  \\\n",
      "13700        Repaid       45.24  2024-11-29T12:12:28.604Z   2024-11-20   \n",
      "14965        Repaid       18.99  2024-12-13T17:47:30.594Z   2024-12-13   \n",
      "17256  AutoRejected         NaN                       NaN   2025-01-10   \n",
      "\n",
      "      paidByUser  \n",
      "13700      False  \n",
      "14965      False  \n",
      "17256        NaN  \n"
     ]
    }
   ],
   "source": [
    "# Extract all applications for a given customer\n",
    "customer_email = '0521dc2fb6f29f79f126409112e21a975e6ed9a5bcc881fbd434045aa5d4a759'\n",
    "customer_apps = df_apps[df_apps['email'] == customer_email]\n",
    "print(f\"Applications for the customer with email '{customer_email}':\")\n",
    "print(customer_apps[['applicationDate', 'amount', 'issuanceDate', 'status', 'paidAmount', 'repaidDate', 'nextPaycheck', 'paidByUser']])"
   ]
  },
  {
   "cell_type": "code",
   "execution_count": 113,
   "metadata": {},
   "outputs": [
    {
     "name": "stdout",
     "output_type": "stream",
     "text": [
      "All transactions for the customer with email '61be9c6909d91d74fe46a2c9f6d830d69f7015e8fa2ac4a4129cbb3edd18ae21':\n",
      "                                   account_id  amount  balance  \\\n",
      "1879953  6198e7ec-0e58-4e68-aa73-faa23a9fe30b  105.64 -1178.41   \n",
      "1879954  6198e7ec-0e58-4e68-aa73-faa23a9fe30b  750.00  -712.77   \n",
      "1879955  6198e7ec-0e58-4e68-aa73-faa23a9fe30b   20.00 -1072.77   \n",
      "1879956  6198e7ec-0e58-4e68-aa73-faa23a9fe30b    7.77    37.23   \n",
      "1879957  6198e7ec-0e58-4e68-aa73-faa23a9fe30b  -45.00    45.00   \n",
      "...                                       ...     ...      ...   \n",
      "2218820  c9511aa5-fc16-407a-bb45-b949a792f2c6 -160.00   138.72   \n",
      "2218821  c9511aa5-fc16-407a-bb45-b949a792f2c6   21.27   -21.28   \n",
      "2218822  c9511aa5-fc16-407a-bb45-b949a792f2c6   -0.13    -0.01   \n",
      "2218823  c9511aa5-fc16-407a-bb45-b949a792f2c6   -0.16    -0.14   \n",
      "2218824  c9511aa5-fc16-407a-bb45-b949a792f2c6    0.30    -0.30   \n",
      "\n",
      "                              category                          subcategory  \\\n",
      "1879953              ['Miscellaneous']                       ['Micro Loan']   \n",
      "1879954  ['Transfers and Adjustments']  ['Other Transfers and Adjustments']   \n",
      "1879955  ['Travel and Transportation']                   ['Public Transit']   \n",
      "1879956            ['Food and Dining']                     ['Coffee Shops']   \n",
      "1879957  ['Transfers and Adjustments']  ['Other Transfers and Adjustments']   \n",
      "...                                ...                                  ...   \n",
      "2218820  ['Transfers and Adjustments']  ['Other Transfers and Adjustments']   \n",
      "2218821              ['Uncategorized']                    ['Uncategorized']   \n",
      "2218822              ['Uncategorized']                    ['Uncategorized']   \n",
      "2218823              ['Uncategorized']                    ['Uncategorized']   \n",
      "2218824           ['Fees and Charges']                  ['Interest Charge']   \n",
      "\n",
      "                                          tags       date  \n",
      "1879953                   ['Loan', 'Purchase'] 2024-09-05  \n",
      "1879954                         ['E-transfer'] 2024-09-05  \n",
      "1879955                            ['Transit'] 2024-09-05  \n",
      "1879956             ['Restaurant', 'Purchase'] 2024-09-05  \n",
      "1879957                         ['E-transfer'] 2024-09-05  \n",
      "...                                        ...        ...  \n",
      "2218820                         ['E-transfer'] 2024-10-03  \n",
      "2218821                           ['Purchase'] 2024-10-03  \n",
      "2218822                            ['Unknown'] 2024-09-26  \n",
      "2218823                            ['Unknown'] 2024-09-26  \n",
      "2218824  ['Bank fee', 'Overdraft', 'Interest'] 2024-09-25  \n",
      "\n",
      "[1035 rows x 7 columns]\n"
     ]
    }
   ],
   "source": [
    "# Extract all transactions for a given customer\n",
    "customer_email = '61be9c6909d91d74fe46a2c9f6d830d69f7015e8fa2ac4a4129cbb3edd18ae21'\n",
    "df_transactions['date'] = pd.to_datetime(df_transactions['date'], format='%Y/%m/%d')\n",
    "df_transactions['amount'] = pd.to_numeric(df_transactions['amount'], errors='coerce')\n",
    "\n",
    "# Filter based on email and subcategory, then sort by date\n",
    "filtered_by_email = df_transactions[df_transactions['email'] == customer_email]\n",
    "\n",
    "# Then filter the resulting DataFrame based on the amount column\n",
    "customer_txs = filtered_by_email[filtered_by_email['subcategory'].apply(lambda x: 'Micro Loan' in x)].sort_values(by='date')\n",
    "print(f\"All transactions for the customer with email '{customer_email}':\")\n",
    "# Only print amount, balance, category, subcategory, and date columns\n",
    "print(customer_txs[['account_id', 'amount', 'balance', 'category', 'subcategory', 'tags', 'date']])\n"
   ]
  },
  {
   "cell_type": "code",
   "execution_count": 154,
   "metadata": {},
   "outputs": [
    {
     "name": "stdout",
     "output_type": "stream",
     "text": [
      "Index: 0\n",
      "Count: 0\n"
     ]
    },
    {
     "name": "stderr",
     "output_type": "stream",
     "text": [
      "/var/folders/mx/d620gz8j2_x32mmsnvc4bzkh0000gn/T/ipykernel_3060/146833991.py:24: SettingWithCopyWarning: \n",
      "A value is trying to be set on a copy of a slice from a DataFrame.\n",
      "Try using .loc[row_indexer,col_indexer] = value instead\n",
      "\n",
      "See the caveats in the documentation: https://pandas.pydata.org/pandas-docs/stable/user_guide/indexing.html#returning-a-view-versus-a-copy\n",
      "  filtered_by_email['tags'] = filtered_by_email['tags'].apply(parse_tags)\n",
      "/var/folders/mx/d620gz8j2_x32mmsnvc4bzkh0000gn/T/ipykernel_3060/146833991.py:25: SettingWithCopyWarning: \n",
      "A value is trying to be set on a copy of a slice from a DataFrame.\n",
      "Try using .loc[row_indexer,col_indexer] = value instead\n",
      "\n",
      "See the caveats in the documentation: https://pandas.pydata.org/pandas-docs/stable/user_guide/indexing.html#returning-a-view-versus-a-copy\n",
      "  filtered_by_email['tags'] = filtered_by_email['tags'].apply(lambda x: x if isinstance(x, list) else [])\n"
     ]
    },
    {
     "name": "stdout",
     "output_type": "stream",
     "text": [
      "Index: 1000\n",
      "Count: 3949\n",
      "Index: 2000\n",
      "Count: 5861\n",
      "6486\n"
     ]
    }
   ],
   "source": [
    "import ast\n",
    "unique_emails = df_transactions['email'].unique()\n",
    "unique_emails_list = unique_emails.tolist()\n",
    "df_transactions['date'] = pd.to_datetime(df_transactions['date'], errors='coerce').dt.date\n",
    "df_apps['issuanceDate'] = pd.to_datetime(df_apps['issuanceDate'], errors='coerce').dt.date\n",
    "df_apps['repaidDate'] = pd.to_datetime(df_apps['repaidDate'], errors='coerce').dt.date\n",
    "def parse_tags(x):\n",
    "    if pd.isna(x):  # Handle NaN\n",
    "        return []\n",
    "    try:\n",
    "        return ast.literal_eval(x)  # Convert string to list\n",
    "    except (ValueError, SyntaxError):  # Handle invalid formats\n",
    "        return []\n",
    "\n",
    "\n",
    "count = 0\n",
    "for email, idx in zip(unique_emails_list, range(len(unique_emails_list))):\n",
    "    # Filter based on email and subcategory, then sort by date\n",
    "    # print(f\"Email: {email}\")\n",
    "    if idx % 1000 == 0:\n",
    "        print(f\"Index: {idx}\")\n",
    "        print(f\"Count: {count}\")\n",
    "    filtered_by_email = df_transactions[df_transactions['email'] == email]\n",
    "    filtered_by_email['tags'] = filtered_by_email['tags'].apply(parse_tags)\n",
    "    filtered_by_email['tags'] = filtered_by_email['tags'].apply(lambda x: x if isinstance(x, list) else [])\n",
    "    customer_txs = filtered_by_email[\n",
    "        filtered_by_email['tags'].apply(lambda x: 'Loan' in x)\n",
    "    ].sort_values(by='date')\n",
    "    apps_rows = df_apps[df_apps['email'] == email]\n",
    "    for apps_index, apps_row in apps_rows.iterrows():\n",
    "        if apps_row['status'] == 'Repaid':\n",
    "            has_one = False\n",
    "            for txs_index, txs_row in customer_txs.iterrows():\n",
    "                if txs_row['amount'] == apps_row['amount']*-1 and txs_row['date'] == apps_row['issuanceDate'] and not has_one:\n",
    "                    has_one = True\n",
    "                elif has_one and txs_row['amount'] == apps_row['paidAmount'] and txs_row['date'] == apps_row['repaidDate']:\n",
    "                    count += 1\n",
    "                    break\n",
    "\n",
    "print(count)\n",
    "    # Only print amount, balance, category, subcategory, and date columns"
   ]
  },
  {
   "cell_type": "code",
   "execution_count": 155,
   "metadata": {},
   "outputs": [
    {
     "name": "stdout",
     "output_type": "stream",
     "text": [
      "Index: 0\n",
      "Count: 0\n"
     ]
    },
    {
     "name": "stderr",
     "output_type": "stream",
     "text": [
      "/var/folders/mx/d620gz8j2_x32mmsnvc4bzkh0000gn/T/ipykernel_3060/3117788754.py:7: SettingWithCopyWarning: \n",
      "A value is trying to be set on a copy of a slice from a DataFrame.\n",
      "Try using .loc[row_indexer,col_indexer] = value instead\n",
      "\n",
      "See the caveats in the documentation: https://pandas.pydata.org/pandas-docs/stable/user_guide/indexing.html#returning-a-view-versus-a-copy\n",
      "  filtered_by_email['tags'] = filtered_by_email['tags'].apply(parse_tags)\n",
      "/var/folders/mx/d620gz8j2_x32mmsnvc4bzkh0000gn/T/ipykernel_3060/3117788754.py:8: SettingWithCopyWarning: \n",
      "A value is trying to be set on a copy of a slice from a DataFrame.\n",
      "Try using .loc[row_indexer,col_indexer] = value instead\n",
      "\n",
      "See the caveats in the documentation: https://pandas.pydata.org/pandas-docs/stable/user_guide/indexing.html#returning-a-view-versus-a-copy\n",
      "  filtered_by_email['tags'] = filtered_by_email['tags'].apply(lambda x: x if isinstance(x, list) else [])\n"
     ]
    },
    {
     "name": "stdout",
     "output_type": "stream",
     "text": [
      "Index: 1000\n",
      "Count: 5752\n",
      "Index: 2000\n",
      "Count: 8585\n",
      "9489\n"
     ]
    }
   ],
   "source": [
    "\n",
    "count = 0\n",
    "for email, idx in zip(unique_emails_list, range(len(unique_emails_list))):\n",
    "    if idx % 1000 == 0:\n",
    "        print(f\"Index: {idx}\")\n",
    "        print(f\"Count: {count}\")\n",
    "    filtered_by_email = df_transactions[df_transactions['email'] == email]\n",
    "    filtered_by_email['tags'] = filtered_by_email['tags'].apply(parse_tags)\n",
    "    filtered_by_email['tags'] = filtered_by_email['tags'].apply(lambda x: x if isinstance(x, list) else [])\n",
    "    customer_txs = filtered_by_email[\n",
    "        filtered_by_email['tags'].apply(lambda x: 'Loan' in x)\n",
    "    ].sort_values(by='date')\n",
    "    apps_rows = df_apps[df_apps['email'] == email]\n",
    "    for apps_index, apps_row in apps_rows.iterrows():\n",
    "        if apps_row['status'] == 'Repaid':\n",
    "            has_one = False\n",
    "            for txs_index, txs_row in customer_txs.iterrows():\n",
    "                # if txs_row['amount'] == apps_row['amount']*-1 and txs_row['date'] == apps_row['issuanceDate'] and not has_one:\n",
    "                #     has_one = True\n",
    "                if txs_row['amount'] == apps_row['paidAmount'] and txs_row['date'] == apps_row['repaidDate']:\n",
    "                    count += 1\n",
    "                    break\n",
    "\n",
    "print(count)\n",
    "    # Only print amount, balance, category, subcategory, and date columns"
   ]
  },
  {
   "cell_type": "markdown",
   "metadata": {},
   "source": [
    "Based on the 2 previous counts, we have more much more data with the transaction of just the loan repayment + balance instead of both transactions of obtaining the loan and repaying it back. So, to use more of the data, I will have to find another way to obtain the initial balance of the account (before the loan is given)."
   ]
  }
 ],
 "metadata": {
  "kernelspec": {
   "display_name": "env",
   "language": "python",
   "name": "python3"
  },
  "language_info": {
   "codemirror_mode": {
    "name": "ipython",
    "version": 3
   },
   "file_extension": ".py",
   "mimetype": "text/x-python",
   "name": "python",
   "nbconvert_exporter": "python",
   "pygments_lexer": "ipython3",
   "version": "3.9.13"
  }
 },
 "nbformat": 4,
 "nbformat_minor": 2
}
