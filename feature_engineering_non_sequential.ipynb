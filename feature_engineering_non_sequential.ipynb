{
 "cells": [
  {
   "cell_type": "code",
   "execution_count": 5,
   "metadata": {},
   "outputs": [],
   "source": [
    "import pandas as pd\n",
    "import numpy as np\n",
    "import matplotlib.pyplot as plt\n",
    "import ast"
   ]
  },
  {
   "cell_type": "code",
   "execution_count": 81,
   "metadata": {},
   "outputs": [],
   "source": [
    "# Load the CSV file into a pandas DataFrame\n",
    "df_apps = pd.read_csv('data/apps_sample.csv')\n",
    "df_transactions = pd.read_csv('data/txs_sample.csv')"
   ]
  },
  {
   "cell_type": "code",
   "execution_count": 82,
   "metadata": {},
   "outputs": [],
   "source": [
    "# Drop rows that don't have any data in the specified columns\n",
    "columns_to_check = ['balance', 'amount'] \n",
    "df_transactions = df_transactions.dropna(subset=columns_to_check)"
   ]
  },
  {
   "cell_type": "code",
   "execution_count": 83,
   "metadata": {},
   "outputs": [],
   "source": [
    "# Convert the date columns to datetime objects + other initial data cleaning\n",
    "df_transactions['date'] = pd.to_datetime(df_transactions['date'], errors='coerce').dt.date\n",
    "df_apps['issuanceDate'] = pd.to_datetime(df_apps['issuanceDate'], errors='coerce').dt.date\n",
    "df_apps['applicationDate'] = pd.to_datetime(df_apps['applicationDate'], errors='coerce').dt.date\n",
    "df_apps['repaidDate'] = pd.to_datetime(df_apps['repaidDate'], errors='coerce').dt.date\n",
    "df_apps['nextPaycheck'] = df_apps['nextPaycheck'].str.replace('T.*', '', regex=True)\n",
    "df_apps['nextPaycheck'] = pd.to_datetime(df_apps['nextPaycheck'], errors='coerce').dt.date\n",
    "def parse_tags(x):\n",
    "    if pd.isna(x):  # Handle NaN\n",
    "        return []\n",
    "    try:\n",
    "        return ast.literal_eval(x)  # Convert string to list\n",
    "    except (ValueError, SyntaxError):  # Handle invalid formats\n",
    "        return []\n",
    "df_transactions['tags'] = df_transactions['tags'].apply(parse_tags)\n",
    "df_transactions['tags'] = df_transactions['tags'].apply(lambda x: x if isinstance(x, list) else [])\n",
    "df_apps[\"paidByUser\"] = df_apps[\"paidByUser\"].astype(bool)"
   ]
  },
  {
   "cell_type": "code",
   "execution_count": 84,
   "metadata": {},
   "outputs": [],
   "source": [
    "# For each email, extract all transactions that are loans, which are indicated by df_apps\n",
    "def extract_loan_transactions(email: str) -> list:\n",
    "    # Get the user's loan applications\n",
    "    user_apps = df_apps[df_apps['email'] == email].sort_values(by='applicationDate')\n",
    "    # Get the user's transactions\n",
    "    user_txs = df_transactions[df_transactions['email'] == email].sort_values(by='date')\n",
    "    # Get the user's loan transactions\n",
    "    loans = []\n",
    "    for apps_index, apps_row in user_apps.iterrows():\n",
    "        if apps_row['status'] == 'Repaid':\n",
    "            for txs_index, txs_row in user_txs.iterrows():\n",
    "                if txs_row['amount'] == apps_row['paidAmount'] and txs_row['date'] == apps_row['repaidDate']:\n",
    "                    loans.append((apps_row, txs_row))\n",
    "                    break\n",
    "    return loans"
   ]
  },
  {
   "cell_type": "code",
   "execution_count": 85,
   "metadata": {},
   "outputs": [],
   "source": [
    "# Get all the transactions for a specific email and a in a specific date range\n",
    "def get_transactions_for_dates(email: str, start_date: str, end_date: str) -> pd.DataFrame:\n",
    "    # Get the user's transactions\n",
    "    user_txs = df_transactions[df_transactions['email'] == email]\n",
    "    # Filter the transactions by date\n",
    "    user_txs = user_txs[(user_txs['date'] >= start_date) & (user_txs['date'] <= end_date)]\n",
    "    return user_txs\n",
    "\n",
    "def get_initial_balance(email: str, loan_row) -> float:\n",
    "    # Get the user's transactions\n",
    "    user_txs = df_transactions[df_transactions['email'] == email]\n",
    "    # Filter the transactions by date\n",
    "    user_txs = user_txs[user_txs['date'] == loan_row['date']]\n",
    "    return np.mean(user_txs['balance']) # Take the average balance for the intial amount, since not all data points have the loan money deposit into account (see data_exploration.ipynb) (safe assumption)"
   ]
  },
  {
   "cell_type": "code",
   "execution_count": 123,
   "metadata": {},
   "outputs": [],
   "source": [
    "def get_loans_history(loans: list, currIdx: int) -> list:\n",
    "    loan = loans[currIdx]\n",
    "    current_amount_requested = loan[0]['amount']\n",
    "    avg_amount_requested = np.mean([loan[0]['amount'] for loan in loans[:currIdx]]) if currIdx > 0 else 0\n",
    "    avg_amount_repaid = np.mean([loan[0]['amount'] for loan in loans[:currIdx]]) if currIdx > 0 else 0\n",
    "    avg_payback_time = np.mean([(loan[0]['repaidDate'] - loan[0]['issuanceDate']).days for loan in loans[:currIdx] if pd.notna(loan[0]['repaidDate']) and pd.notna(loan[0]['issuanceDate'])]) if currIdx > 0 else 0\n",
    "    num_of_paidByUser = len([loan for loan in loans[:currIdx] if loan[0]['paidByUser']])\n",
    "    num_of_not_paidByUser = len([loan for loan in loans[:currIdx] if not loan[0]['paidByUser']])\n",
    "    ratio_paidByUser = num_of_paidByUser / (num_of_paidByUser + num_of_not_paidByUser) if (num_of_paidByUser + num_of_not_paidByUser) > 0 else 0\n",
    "    ratio_loans_approved = (currIdx + 1) / df_apps[(df_apps['email'] == loan[0]['email']) & (df_apps['applicationDate'] < loan[0]['applicationDate'])].shape[0] if df_apps[(df_apps['email'] == loan[0]['email']) & (df_apps['applicationDate'] < loan[0]['applicationDate'])].shape[0] > 0 else 0\n",
    "    num_days_since_last_loan = (loan[0]['applicationDate'] - loans[currIdx - 1][0]['applicationDate']).days if currIdx > 0 and pd.notna(loan[0]['applicationDate']) else -1\n",
    "    num_days_loan_was_paid_late = sum(max(int((loan[0]['repaidDate'] - loan[0]['nextPaycheck']).days), 0) for loan in loans[:currIdx] if pd.notna(loan[0]['repaidDate']) and pd.notna(loan[0]['nextPaycheck']))\n",
    "    ratio_loans_were_paid_on_time = len([loan for loan in loans[:currIdx] if pd.notna(loan[0]['repaidDate']) and loan[0]['repaidDate'] <= loan[0]['nextPaycheck']]) / (currIdx + 1) if (currIdx + 1) > 0 else 0\n",
    "    \n",
    "    return [\n",
    "        current_amount_requested,\n",
    "        avg_amount_requested,\n",
    "        avg_amount_repaid,\n",
    "        avg_payback_time,\n",
    "        num_of_paidByUser,\n",
    "        num_of_not_paidByUser,\n",
    "        ratio_paidByUser,\n",
    "        ratio_loans_approved,\n",
    "        num_days_since_last_loan,\n",
    "        num_days_loan_was_paid_late,\n",
    "        ratio_loans_were_paid_on_time\n",
    "    ]\n",
    "\n",
    "def get_transactions_history(email: str, loans: list, currIdx: int) -> list:\n",
    "    loan = loans[currIdx]\n",
    "    txs = get_transactions_for_dates(email, pd.to_datetime('2024-01-01').date(), loan[0]['issuanceDate'])\n",
    "    avg_amount_spent = np.mean(txs['amount']) if not txs.empty else 0\n",
    "    std_amount_spent = np.std(txs['amount']) if not txs.empty else 0\n",
    "    avg_balance = np.mean(txs['balance']) if not txs.empty else 0\n",
    "    recent_txs = txs[txs['date'] >= max(loan[0]['issuanceDate'] - pd.Timedelta(days=30), pd.Timestamp('2024-01-01').date())]\n",
    "    avg_amount_spent_last_30_days = np.mean(recent_txs['amount']) if not recent_txs.empty else 0\n",
    "    std_amount_spent_last_30_days = np.std(recent_txs['amount']) if not recent_txs.empty else 0\n",
    "    avg_num_daily_transactions = txs.groupby('date').size().mean() if not txs.empty else 0\n",
    "    avg_daily_balance = txs.groupby('date')['balance'].mean().mean() if not txs.empty else 0\n",
    "    std_daily_balance = txs.groupby('date')['balance'].mean().std() if not txs.empty else 0\n",
    "    num_times_balance_dropped_below_zero = len(txs[(txs['balance'] < 0) & (txs['date'] <= loan[0]['issuanceDate'])]) if not txs.empty else 0\n",
    "    lowest_balance = txs['balance'].min() if not txs.empty else 0\n",
    "    highest_balance = txs['balance'].max() if not txs.empty else 0\n",
    "    \n",
    "    return [\n",
    "        avg_amount_spent,\n",
    "        std_amount_spent,\n",
    "        avg_balance,\n",
    "        avg_amount_spent_last_30_days,\n",
    "        std_amount_spent_last_30_days,\n",
    "        avg_num_daily_transactions,\n",
    "        avg_daily_balance,\n",
    "        std_daily_balance,\n",
    "        num_times_balance_dropped_below_zero,\n",
    "        lowest_balance,\n",
    "        highest_balance\n",
    "    ]\n"
   ]
  },
  {
   "cell_type": "code",
   "execution_count": 124,
   "metadata": {},
   "outputs": [],
   "source": [
    "def format_one_data_point(email: str) -> list:\n",
    "    loans = extract_loan_transactions(email)\n",
    "    features = []\n",
    "    labels = []\n",
    "    for i in range(len(loans)):\n",
    "        loan = loans[i]\n",
    "        data_point = []\n",
    "        data_point += get_loans_history(loans, i)\n",
    "        data_point += get_transactions_history(email, loans, i)\n",
    "        features.append(data_point)\n",
    "        labels.append(loan[1]['balance'])\n",
    "    return features, labels"
   ]
  },
  {
   "cell_type": "code",
   "execution_count": 136,
   "metadata": {},
   "outputs": [
    {
     "data": {
      "text/plain": [
       "np.False_"
      ]
     },
     "execution_count": 136,
     "metadata": {},
     "output_type": "execute_result"
    }
   ],
   "source": [
    "format_one_data_point(\"61be9c6909d91d74fe46a2c9f6d830d69f7015e8fa2ac4a4129cbb3edd18ae21\")"
   ]
  },
  {
   "cell_type": "code",
   "execution_count": null,
   "metadata": {},
   "outputs": [],
   "source": [
    "def get_data():\n",
    "    data = []\n",
    "    labels = []\n",
    "    unique_emails = df_transactions['email'].unique()\n",
    "    unique_emails_list = unique_emails.tolist()\n",
    "    count = 0\n",
    "    for email in unique_emails_list:\n",
    "        data_point = format_one_data_point(email)\n",
    "        data.extend(data_point[0])\n",
    "        labels.extend(data_point[1])\n",
    "        count += 1\n",
    "        if count % 100 == 0:\n",
    "            print(count)\n",
    "        if count == 500:\n",
    "            break\n",
    "    return data, labels\n",
    "\n",
    "data, labels = get_data()"
   ]
  },
  {
   "cell_type": "code",
   "execution_count": null,
   "metadata": {},
   "outputs": [],
   "source": [
    "arr = np.array(data)\n",
    "array = np.nan_to_num(arr, nan=0)\n",
    "np.save('500_data_pts_features.npy', array)"
   ]
  },
  {
   "cell_type": "code",
   "execution_count": null,
   "metadata": {},
   "outputs": [],
   "source": [
    "labels = np.array(labels)\n",
    "np.save('500_data_pts_labels.npy', labels)"
   ]
  },
  {
   "cell_type": "code",
   "execution_count": null,
   "metadata": {},
   "outputs": [],
   "source": []
  }
 ],
 "metadata": {
  "kernelspec": {
   "display_name": "env",
   "language": "python",
   "name": "python3"
  },
  "language_info": {
   "codemirror_mode": {
    "name": "ipython",
    "version": 3
   },
   "file_extension": ".py",
   "mimetype": "text/x-python",
   "name": "python",
   "nbconvert_exporter": "python",
   "pygments_lexer": "ipython3",
   "version": "3.9.13"
  }
 },
 "nbformat": 4,
 "nbformat_minor": 2
}
